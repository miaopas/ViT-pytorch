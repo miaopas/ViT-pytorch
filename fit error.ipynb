{
 "cells": [
  {
   "cell_type": "code",
   "execution_count": 1,
   "metadata": {},
   "outputs": [],
   "source": [
    "from models.vit_lit import VitModel\n",
    "from models.modeling import CONFIGS\n",
    "from utils.data_utils import get_loader_test\n",
    "import torch\n",
    "import pytorch_lightning as pl\n",
    "import matplotlib.pyplot as plt\n",
    "import numpy as np\n",
    "from scipy.special import softmax\n",
    "import matplotlib.pyplot as plt\n",
    "import seaborn as sns\n",
    "sns.set_theme(font_scale=1.5)\n",
    "import os\n",
    "import glob\n",
    "plt.rcParams['figure.dpi'] = 300"
   ]
  },
  {
   "cell_type": "code",
   "execution_count": 18,
   "metadata": {},
   "outputs": [],
   "source": [
    "import argparse\n",
    "import shlex\n",
    "def main(cmd=''):\n",
    "    parser = argparse.ArgumentParser()\n",
    "    # Required parameters\n",
    "    parser.add_argument(\"--name\", required=True,\n",
    "                        help=\"Name of this run. Used for monitoring.\")\n",
    "    parser.add_argument(\"--dataset\", choices=[\"cifar10\", \"cifar100\"], default=\"cifar10\",\n",
    "                        help=\"Which downstream task.\")\n",
    "    parser.add_argument(\"--model_type\", choices=[\"ViT-B_16\", \"ViT-B_32\", \"ViT-L_16\",\n",
    "                                                 \"ViT-L_32\", \"ViT-H_14\", \"R50-ViT-B_16\"],\n",
    "                        default=\"ViT-B_16\",\n",
    "                        help=\"Which variant to use.\")\n",
    "    parser.add_argument(\"--pretrained_dir\", type=str, default=\"checkpoint/ViT-B_16.npz\",\n",
    "                        help=\"Where to search for pretrained ViT models.\")\n",
    "    parser.add_argument(\"--output_dir\", default=\"output\", type=str,\n",
    "                        help=\"The output directory where checkpoints will be written.\")\n",
    "\n",
    "    parser.add_argument(\"--img_size\", default=224, type=int,\n",
    "                        help=\"Resolution size\")\n",
    "    parser.add_argument(\"--train_batch_size\", default=512, type=int,\n",
    "                        help=\"Total batch size for training.\")\n",
    "    parser.add_argument(\"--eval_batch_size\", default=64, type=int,\n",
    "                        help=\"Total batch size for eval.\")\n",
    "    parser.add_argument(\"--eval_every\", default=100, type=int,\n",
    "                        help=\"Run prediction on validation set every so many steps.\"\n",
    "                             \"Will always run one evaluation at the end of training.\")\n",
    "\n",
    "    parser.add_argument(\"--learning_rate\", default=3e-2, type=float,\n",
    "                        help=\"The initial learning rate for SGD.\")\n",
    "    parser.add_argument(\"--weight_decay\", default=0, type=float,\n",
    "                        help=\"Weight deay if we apply some.\")\n",
    "    parser.add_argument(\"--num_steps\", default=10000, type=int,\n",
    "                        help=\"Total number of training epochs to perform.\")\n",
    "    parser.add_argument(\"--decay_type\", choices=[\"cosine\", \"linear\"], default=\"cosine\",\n",
    "                        help=\"How to decay the learning rate.\")\n",
    "    parser.add_argument(\"--warmup_epochs\", default=2, type=int,\n",
    "                        help=\"Epochs of training to perform learning rate warmup for.\")\n",
    "    parser.add_argument(\"--max_grad_norm\", default=1.0, type=float,\n",
    "                        help=\"Max gradient norm.\")\n",
    "\n",
    "    parser.add_argument(\"--local_rank\", type=int, default=-1,\n",
    "                        help=\"local_rank for distributed training on gpus\")\n",
    "    parser.add_argument('--seed', type=int, default=42,\n",
    "                        help=\"random seed for initialization\")\n",
    "    parser.add_argument('--gradient_accumulation_steps', type=int, default=1,\n",
    "                        help=\"Number of updates steps to accumulate before performing a backward/update pass.\")\n",
    "    parser.add_argument('--fp16', action='store_true',\n",
    "                        help=\"Whether to use 16-bit float precision instead of 32-bit\")\n",
    "    parser.add_argument('--fp16_opt_level', type=str, default='O2',\n",
    "                        help=\"For fp16: Apex AMP optimization level selected in ['O0', 'O1', 'O2', and 'O3'].\"\n",
    "                             \"See details at https://nvidia.github.io/apex/amp.html\")\n",
    "    parser.add_argument('--loss_scale', type=float, default=0,\n",
    "                        help=\"Loss scaling to improve fp16 numeric stability. Only used when fp16 set to True.\\n\"\n",
    "                             \"0 (default value): dynamic loss scaling.\\n\"\n",
    "                             \"Positive power of 2: static loss scaling value.\\n\")\n",
    "    if cmd != '':\n",
    "        args = parser.parse_args(cmd)\n",
    "    else:\n",
    "        args = parser.parse_args()\n",
    "\n",
    "    return args \n",
    "\n",
    "args = main(shlex.split('--name cifar10-100_500_rank64  --dataset cifar10 --model_type ViT-B_16 --pretrained_dir checkpoint/ViT-B_16.npz --fp16 --fp16_opt_level O2 --gradient_accumulation_steps 15 --train_batch_size 64  --num_steps 2000'))"
   ]
  },
  {
   "cell_type": "code",
   "execution_count": 19,
   "metadata": {},
   "outputs": [
    {
     "name": "stdout",
     "output_type": "stream",
     "text": [
      "Files already downloaded and verified\n",
      "Files already downloaded and verified\n"
     ]
    },
    {
     "name": "stderr",
     "output_type": "stream",
     "text": [
      "Exception ignored in: <function _releaseLock at 0x7fb73c652290>\n",
      "Traceback (most recent call last):\n",
      "  File \"/usr/lib/python3.10/logging/__init__.py\", line 228, in _releaseLock\n",
      "    def _releaseLock():\n",
      "  File \"_pydevd_bundle/pydevd_cython.pyx\", line 1366, in _pydevd_bundle.pydevd_cython.SafeCallWrapper.__call__\n",
      "  File \"_pydevd_bundle/pydevd_cython.pyx\", line 1667, in _pydevd_bundle.pydevd_cython.ThreadTracer.__call__\n",
      "  File \"/home/haotian/Enviroments/env1/lib/python3.10/site-packages/debugpy/_vendored/pydevd/_pydev_bundle/pydev_is_thread_alive.py\", line 9, in is_thread_alive\n",
      "    def is_thread_alive(t):\n",
      "KeyboardInterrupt: \n"
     ]
    },
    {
     "ename": "",
     "evalue": "",
     "output_type": "error",
     "traceback": [
      "\u001b[1;31mThe Kernel crashed while executing code in the the current cell or a previous cell. Please review the code in the cell(s) to identify a possible cause of the failure. Click <a href='https://aka.ms/vscodeJupyterKernelCrash'>here</a> for more info. View Jupyter <a href='command:jupyter.viewOutput'>log</a> for further details."
     ]
    }
   ],
   "source": [
    "from utils.data_utils import get_loader\n",
    "dataset = get_loader(args)\n",
    "dataset = next(iter(next(iter(dataset))))"
   ]
  },
  {
   "cell_type": "code",
   "execution_count": 2,
   "metadata": {},
   "outputs": [
    {
     "name": "stderr",
     "output_type": "stream",
     "text": [
      "/home/haotian/Enviroments/env1/lib/python3.10/site-packages/pytorch_lightning/core/saving.py:245: UserWarning: Found keys that are not in the model state dict but in the checkpoint: ['model.transformer.encoder.layer.0.attn.mask', 'model.transformer.encoder.layer.1.attn.mask', 'model.transformer.encoder.layer.2.attn.mask', 'model.transformer.encoder.layer.3.attn.mask', 'model.transformer.encoder.layer.4.attn.mask', 'model.transformer.encoder.layer.5.attn.mask', 'model.transformer.encoder.layer.6.attn.mask', 'model.transformer.encoder.layer.7.attn.mask', 'model.transformer.encoder.layer.8.attn.mask', 'model.transformer.encoder.layer.9.attn.mask', 'model.transformer.encoder.layer.10.attn.mask', 'model.transformer.encoder.layer.11.attn.mask']\n",
      "  rank_zero_warn(\n"
     ]
    },
    {
     "ename": "NameError",
     "evalue": "name 'dataset' is not defined",
     "output_type": "error",
     "traceback": [
      "\u001b[0;31m---------------------------------------------------------------------------\u001b[0m",
      "\u001b[0;31mNameError\u001b[0m                                 Traceback (most recent call last)",
      "Input \u001b[0;32mIn [2]\u001b[0m, in \u001b[0;36m<cell line: 6>\u001b[0;34m()\u001b[0m\n\u001b[1;32m      4\u001b[0m file \u001b[38;5;241m=\u001b[39m \u001b[38;5;28mmax\u001b[39m(path, key\u001b[38;5;241m=\u001b[39mos\u001b[38;5;241m.\u001b[39mpath\u001b[38;5;241m.\u001b[39mgetctime)\n\u001b[1;32m      5\u001b[0m model \u001b[38;5;241m=\u001b[39m VitModel\u001b[38;5;241m.\u001b[39mload_from_checkpoint(file, strict\u001b[38;5;241m=\u001b[39m\u001b[38;5;28;01mFalse\u001b[39;00m)\n\u001b[0;32m----> 6\u001b[0m _, A \u001b[38;5;241m=\u001b[39m model\u001b[38;5;241m.\u001b[39mmodel\u001b[38;5;241m.\u001b[39mtransformer(\u001b[43mdataset\u001b[49m[\u001b[38;5;241m0\u001b[39m])\n\u001b[1;32m      7\u001b[0m res \u001b[38;5;241m=\u001b[39m {}\n",
      "\u001b[0;31mNameError\u001b[0m: name 'dataset' is not defined"
     ]
    }
   ],
   "source": [
    "av_list = []\n",
    "path = f'runs/cifar10-100_500_{64}/version_0/checkpoints'\n",
    "path = glob.glob(f'{path}/*') # * means all if need specific format then *.csv\n",
    "file = max(path, key=os.path.getctime)\n",
    "model = VitModel.load_from_checkpoint(file, strict=False)\n",
    "_, A = model.model.transformer(dataset[0])\n",
    "res = {}\n",
    "\n",
    "\n",
    "\n",
    "# for l in range(12):\n",
    "#     for h in range(12):\n",
    "\n",
    "#         # for x in train_loader:\n",
    "        \n",
    "#         attention = A[l].detach().cpu().numpy()\n",
    "#         s = np.linalg.svd(attention[:,h], compute_uv=False)\n",
    "          \n",
    "#         s = s/197\n",
    "#         average = np.mean(s, axis=0)\n",
    "#         res[(l,h)] = average"
   ]
  },
  {
   "cell_type": "code",
   "execution_count": null,
   "metadata": {},
   "outputs": [
    {
     "data": {
      "text/plain": [
       "torch.Size([64, 12, 197, 197])"
      ]
     },
     "execution_count": 14,
     "metadata": {},
     "output_type": "execute_result"
    }
   ],
   "source": [
    "A[0].shape"
   ]
  },
  {
   "cell_type": "code",
   "execution_count": 3,
   "metadata": {},
   "outputs": [],
   "source": [
    "import pickle\n",
    "with open('svd.pkl', 'rb') as f:\n",
    "    res = pickle.load(f)"
   ]
  },
  {
   "cell_type": "code",
   "execution_count": 4,
   "metadata": {},
   "outputs": [
    {
     "data": {
      "text/plain": [
       "dict_keys([(0, 0), (0, 1), (0, 2), (0, 3), (0, 4), (0, 5), (0, 6), (0, 7), (0, 8), (0, 9), (0, 10), (0, 11), (1, 0), (1, 1), (1, 2), (1, 3), (1, 4), (1, 5), (1, 6), (1, 7), (1, 8), (1, 9), (1, 10), (1, 11), (2, 0), (2, 1), (2, 2), (2, 3), (2, 4), (2, 5), (2, 6), (2, 7), (2, 8), (2, 9), (2, 10), (2, 11), (3, 0), (3, 1), (3, 2), (3, 3), (3, 4), (3, 5), (3, 6), (3, 7), (3, 8), (3, 9), (3, 10), (3, 11), (4, 0), (4, 1), (4, 2), (4, 3), (4, 4), (4, 5), (4, 6), (4, 7), (4, 8), (4, 9), (4, 10), (4, 11), (5, 0), (5, 1), (5, 2), (5, 3), (5, 4), (5, 5), (5, 6), (5, 7), (5, 8), (5, 9), (5, 10), (5, 11), (6, 0), (6, 1), (6, 2), (6, 3), (6, 4), (6, 5), (6, 6), (6, 7), (6, 8), (6, 9), (6, 10), (6, 11), (7, 0), (7, 1), (7, 2), (7, 3), (7, 4), (7, 5), (7, 6), (7, 7), (7, 8), (7, 9), (7, 10), (7, 11), (8, 0), (8, 1), (8, 2), (8, 3), (8, 4), (8, 5), (8, 6), (8, 7), (8, 8), (8, 9), (8, 10), (8, 11), (9, 0), (9, 1), (9, 2), (9, 3), (9, 4), (9, 5), (9, 6), (9, 7), (9, 8), (9, 9), (9, 10), (9, 11), (10, 0), (10, 1), (10, 2), (10, 3), (10, 4), (10, 5), (10, 6), (10, 7), (10, 8), (10, 9), (10, 10), (10, 11), (11, 0), (11, 1), (11, 2), (11, 3), (11, 4), (11, 5), (11, 6), (11, 7), (11, 8), (11, 9), (11, 10), (11, 11)])"
      ]
     },
     "execution_count": 4,
     "metadata": {},
     "output_type": "execute_result"
    }
   ],
   "source": [
    "res.keys()"
   ]
  },
  {
   "cell_type": "code",
   "execution_count": 5,
   "metadata": {},
   "outputs": [
    {
     "data": {
      "text/plain": [
       "(197,)"
      ]
     },
     "execution_count": 5,
     "metadata": {},
     "output_type": "execute_result"
    }
   ],
   "source": [
    "res[(0,1)].shape"
   ]
  },
  {
   "cell_type": "code",
   "execution_count": 17,
   "metadata": {},
   "outputs": [
    {
     "data": {
      "text/plain": [
       "[<matplotlib.lines.Line2D at 0x7faebea50d30>]"
      ]
     },
     "execution_count": 17,
     "metadata": {},
     "output_type": "execute_result"
    },
    {
     "data": {
      "image/png": "[encoded data removed]",
      "text/plain": [
       "<Figure size 432x288 with 1 Axes>"
      ]
     },
     "metadata": {
      "needs_background": "light"
     },
     "output_type": "display_data"
    }
   ],
   "source": [
    "plt.plot(x,res[(5,11)][:15])"
   ]
  },
  {
   "cell_type": "code",
   "execution_count": 20,
   "metadata": {},
   "outputs": [],
   "source": [
    "x = list(range(1,16))"
   ]
  },
  {
   "cell_type": "code",
   "execution_count": 21,
   "metadata": {},
   "outputs": [
    {
     "data": {
      "text/plain": [
       "[1, 2, 3, 4, 5, 6, 7, 8, 9, 10, 11, 12, 13, 14, 15]"
      ]
     },
     "execution_count": 21,
     "metadata": {},
     "output_type": "execute_result"
    }
   ],
   "source": [
    "x"
   ]
  },
  {
   "cell_type": "code",
   "execution_count": 18,
   "metadata": {},
   "outputs": [
    {
     "data": {
      "text/plain": [
       "array([4.67286212e-03, 1.02220709e-03, 3.38103797e-04, 2.45194242e-04,\n",
       "       1.94011969e-04, 1.62438431e-04, 1.37947383e-04, 1.22145924e-04,\n",
       "       1.08524124e-04, 9.69111570e-05, 8.69143405e-05, 7.77735404e-05,\n",
       "       7.08848456e-05, 6.41846636e-05, 5.87183968e-05], dtype=float32)"
      ]
     },
     "execution_count": 18,
     "metadata": {},
     "output_type": "execute_result"
    }
   ],
   "source": [
    "res[(5,11)][:15]"
   ]
  },
  {
   "cell_type": "code",
   "execution_count": 34,
   "metadata": {},
   "outputs": [],
   "source": [
    "import numpy as np\n",
    "from scipy.optimize import curve_fit\n",
    "import matplotlib.pyplot as plt\n",
    "\n",
    "b_list = []\n",
    "\n",
    "for k,v in res.items():\n",
    "\n",
    "\n",
    "    # Data provided by the user\n",
    "\n",
    "    l = 197\n",
    "    x = np.array(range(1,l+1))\n",
    "    y = v[:l]\n",
    "    # Defining the model function\n",
    "    def model_func(m, a, b, c):\n",
    "        return a / (m**b) + c\n",
    "\n",
    "    # Using curve_fit to fit the model function to the data\n",
    "    popt, pcov = curve_fit(model_func, x, y, maxfev=10000)\n",
    "\n",
    "    # Extracting the parameters a, b, and c\n",
    "    a, b, c = popt\n",
    "\n",
    "    b_list.append(b)\n"
   ]
  },
  {
   "cell_type": "code",
   "execution_count": 35,
   "metadata": {},
   "outputs": [
    {
     "data": {
      "text/plain": [
       "9.50629632779041"
      ]
     },
     "execution_count": 35,
     "metadata": {},
     "output_type": "execute_result"
    }
   ],
   "source": [
    "np.max(b_list)"
   ]
  },
  {
   "cell_type": "code",
   "execution_count": 36,
   "metadata": {},
   "outputs": [
    {
     "data": {
      "text/plain": [
       "(array([21., 26., 17., 17., 21., 13., 12.,  5.,  5.,  7.]),\n",
       " array([1.18192056, 2.01435814, 2.84679571, 3.67923329, 4.51167087,\n",
       "        5.34410844, 6.17654602, 7.0089836 , 7.84142117, 8.67385875,\n",
       "        9.50629633]),\n",
       " <BarContainer object of 10 artists>)"
      ]
     },
     "execution_count": 36,
     "metadata": {},
     "output_type": "execute_result"
    },
    {
     "data": {
      "image/png": "[encoded data removed]",
      "text/plain": [
       "<Figure size 432x288 with 1 Axes>"
      ]
     },
     "metadata": {
      "needs_background": "light"
     },
     "output_type": "display_data"
    }
   ],
   "source": [
    "plt.hist(b_list)"
   ]
  },
  {
   "cell_type": "code",
   "execution_count": 39,
   "metadata": {},
   "outputs": [],
   "source": [
    "m = [1,3,45,50,55]\n",
    "e = [1.57,1.46,1.18,1.16,1.16]"
   ]
  },
  {
   "cell_type": "code",
   "execution_count": 40,
   "metadata": {},
   "outputs": [
    {
     "data": {
      "image/png": "[encoded data removed]",
      "text/plain": [
       "<Figure size 432x288 with 1 Axes>"
      ]
     },
     "metadata": {
      "needs_background": "light"
     },
     "output_type": "display_data"
    },
    {
     "data": {
      "text/plain": [
       "(755.9817426850907, 0.0001369938754363313, -754.4101731967544)"
      ]
     },
     "execution_count": 40,
     "metadata": {},
     "output_type": "execute_result"
    }
   ],
   "source": [
    "import numpy as np\n",
    "from scipy.optimize import curve_fit\n",
    "import matplotlib.pyplot as plt\n",
    "\n",
    "# Data provided by the user\n",
    "x = m\n",
    "y = e\n",
    "\n",
    "# Defining the model function\n",
    "def model_func(m, a, b, c):\n",
    "    return a / (m**b) + c\n",
    "\n",
    "# Using curve_fit to fit the model function to the data\n",
    "popt, pcov = curve_fit(model_func, x, y, maxfev=10000)\n",
    "\n",
    "# Extracting the parameters a, b, and c\n",
    "a, b, c = popt\n",
    "\n",
    "# Generating a smooth line for the fitted function\n",
    "x_smooth = np.linspace(min(x), max(x), 500)\n",
    "y_smooth = model_func(x_smooth, *popt)\n",
    "\n",
    "# Plotting the data and the fitted curve\n",
    "plt.scatter(x, y, label='Data')\n",
    "plt.plot(x_smooth, y_smooth, color='red', label='Fitted curve')\n",
    "plt.xlabel('x')\n",
    "plt.ylabel('y')\n",
    "plt.title('Curve Fitting')\n",
    "plt.legend()\n",
    "plt.show()\n",
    "\n",
    "a, b, c  # Return the values of a, b, and c\n",
    "\n"
   ]
  },
  {
   "cell_type": "code",
   "execution_count": null,
   "metadata": {},
   "outputs": [],
   "source": []
  }
 ],
 "metadata": {
  "kernelspec": {
   "display_name": "Python 3.10.4 ('env1')",
   "language": "python",
   "name": "python3"
  },
  "language_info": {
   "codemirror_mode": {
    "name": "ipython",
    "version": 3
   },
   "file_extension": ".py",
   "mimetype": "text/x-python",
   "name": "python",
   "nbconvert_exporter": "python",
   "pygments_lexer": "ipython3",
   "version": "3.10.12"
  },
  "orig_nbformat": 4,
  "vscode": {
   "interpreter": {
    "hash": "f79a8a4565eebfe4c70019c336b9dc0c1535a153e32b952a653c6e06f8f61989"
   }
  }
 },
 "nbformat": 4,
 "nbformat_minor": 2
}
