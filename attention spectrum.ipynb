{
 "cells": [
  {
   "cell_type": "code",
   "execution_count": 1,
   "metadata": {},
   "outputs": [],
   "source": [
    "from models.vit_lit import VitModel\n",
    "from models.modeling import CONFIGS\n",
    "from utils.data_utils import get_loader\n",
    "import torch\n",
    "import pytorch_lightning as pl\n",
    "import matplotlib.pyplot as plt\n",
    "import numpy as np\n",
    "from scipy.special import softmax\n",
    "import matplotlib.pyplot as plt\n",
    "import seaborn as sns\n",
    "sns.set_theme(font_scale=1.5)\n",
    "import os\n",
    "import glob\n",
    "plt.rcParams['figure.dpi'] = 300"
   ]
  },
  {
   "cell_type": "code",
   "execution_count": 2,
   "metadata": {},
   "outputs": [],
   "source": [
    "import argparse\n",
    "import shlex\n",
    "def main(cmd=''):\n",
    "    parser = argparse.ArgumentParser()\n",
    "    # Required parameters\n",
    "    parser.add_argument(\"--name\", required=True,\n",
    "                        help=\"Name of this run. Used for monitoring.\")\n",
    "    parser.add_argument(\"--dataset\", choices=[\"cifar10\", \"cifar100\"], default=\"cifar10\",\n",
    "                        help=\"Which downstream task.\")\n",
    "    parser.add_argument(\"--model_type\", choices=[\"ViT-B_16\", \"ViT-B_32\", \"ViT-L_16\",\n",
    "                                                 \"ViT-L_32\", \"ViT-H_14\", \"R50-ViT-B_16\"],\n",
    "                        default=\"ViT-B_16\",\n",
    "                        help=\"Which variant to use.\")\n",
    "    parser.add_argument(\"--pretrained_dir\", type=str, default=\"checkpoint/ViT-B_16.npz\",\n",
    "                        help=\"Where to search for pretrained ViT models.\")\n",
    "    parser.add_argument(\"--output_dir\", default=\"output\", type=str,\n",
    "                        help=\"The output directory where checkpoints will be written.\")\n",
    "\n",
    "    parser.add_argument(\"--img_size\", default=224, type=int,\n",
    "                        help=\"Resolution size\")\n",
    "    parser.add_argument(\"--train_batch_size\", default=512, type=int,\n",
    "                        help=\"Total batch size for training.\")\n",
    "    parser.add_argument(\"--eval_batch_size\", default=64, type=int,\n",
    "                        help=\"Total batch size for eval.\")\n",
    "    parser.add_argument(\"--eval_every\", default=100, type=int,\n",
    "                        help=\"Run prediction on validation set every so many steps.\"\n",
    "                             \"Will always run one evaluation at the end of training.\")\n",
    "\n",
    "    parser.add_argument(\"--learning_rate\", default=3e-2, type=float,\n",
    "                        help=\"The initial learning rate for SGD.\")\n",
    "    parser.add_argument(\"--weight_decay\", default=0, type=float,\n",
    "                        help=\"Weight deay if we apply some.\")\n",
    "    parser.add_argument(\"--num_steps\", default=10000, type=int,\n",
    "                        help=\"Total number of training epochs to perform.\")\n",
    "    parser.add_argument(\"--decay_type\", choices=[\"cosine\", \"linear\"], default=\"cosine\",\n",
    "                        help=\"How to decay the learning rate.\")\n",
    "    parser.add_argument(\"--warmup_epochs\", default=2, type=int,\n",
    "                        help=\"Epochs of training to perform learning rate warmup for.\")\n",
    "    parser.add_argument(\"--max_grad_norm\", default=1.0, type=float,\n",
    "                        help=\"Max gradient norm.\")\n",
    "\n",
    "    parser.add_argument(\"--local_rank\", type=int, default=-1,\n",
    "                        help=\"local_rank for distributed training on gpus\")\n",
    "    parser.add_argument('--seed', type=int, default=42,\n",
    "                        help=\"random seed for initialization\")\n",
    "    parser.add_argument('--gradient_accumulation_steps', type=int, default=1,\n",
    "                        help=\"Number of updates steps to accumulate before performing a backward/update pass.\")\n",
    "    parser.add_argument('--fp16', action='store_true',\n",
    "                        help=\"Whether to use 16-bit float precision instead of 32-bit\")\n",
    "    parser.add_argument('--fp16_opt_level', type=str, default='O2',\n",
    "                        help=\"For fp16: Apex AMP optimization level selected in ['O0', 'O1', 'O2', and 'O3'].\"\n",
    "                             \"See details at https://nvidia.github.io/apex/amp.html\")\n",
    "    parser.add_argument('--loss_scale', type=float, default=0,\n",
    "                        help=\"Loss scaling to improve fp16 numeric stability. Only used when fp16 set to True.\\n\"\n",
    "                             \"0 (default value): dynamic loss scaling.\\n\"\n",
    "                             \"Positive power of 2: static loss scaling value.\\n\")\n",
    "    if cmd != '':\n",
    "        args = parser.parse_args(cmd)\n",
    "    else:\n",
    "        args = parser.parse_args()\n",
    "\n",
    "    return args \n",
    "\n",
    "args = main(shlex.split('--name cifar10-100_500_rank64  --dataset cifar10 --model_type ViT-B_16 --pretrained_dir checkpoint/ViT-B_16.npz --fp16 --fp16_opt_level O2 --gradient_accumulation_steps 15 --train_batch_size 64  --num_steps 2000'))"
   ]
  },
  {
   "cell_type": "code",
   "execution_count": 3,
   "metadata": {},
   "outputs": [
    {
     "name": "stdout",
     "output_type": "stream",
     "text": [
      "Files already downloaded and verified\n",
      "Files already downloaded and verified\n"
     ]
    }
   ],
   "source": [
    "from utils.data_utils import get_loader\n",
    "train_loader, test_loader = get_loader(args)"
   ]
  },
  {
   "cell_type": "code",
   "execution_count": 5,
   "metadata": {},
   "outputs": [],
   "source": [
    "av_list = []\n",
    "for mh in [55,50,45,3,1]:\n",
    "    path = f'runs/cifar10-100_500_{mh}/version_0/checkpoints'\n",
    "    path = glob.glob(f'{path}/*') # * means all if need specific format then *.csv\n",
    "    file = max(path, key=os.path.getctime)\n",
    "    model = VitModel.load_from_checkpoint(file, strict=False)\n",
    "    layer = 5\n",
    "    head = 0\n",
    "    res = []\n",
    "    for x in train_loader:\n",
    "        input = x[0]\n",
    "        _, A = model.model.transformer(input)\n",
    "        attention = A[layer].detach().numpy()\n",
    "        s = np.linalg.svd(attention[:,head], compute_uv=False)\n",
    "        res.append(s)\n",
    "        if len(res)>5:\n",
    "            break\n",
    "    res = np.array(res)\n",
    "    res = res.reshape(-1,197)\n",
    "    res = res[:,:64]/197\n",
    "    average = np.mean(res, axis=0)\n",
    "    av_list.append(average)"
   ]
  },
  {
   "cell_type": "code",
   "execution_count": null,
   "metadata": {},
   "outputs": [],
   "source": [
    "m = np.array([1,2,3,5, 6, 7, 8, 10, 14, 16, 20, 24,25,30, 32, 35, 40, 50, 64])\n",
    "e = np.array([1.75, 1.61, 1.58, 1.50, 1.48, 1.47, 1.45, 1.43, 1.39 ,1.39, 1.38, 1.34, 1.34, 1.32, 1.32, 1.31, 1.31, 1.30, 1.29])"
   ]
  },
  {
   "cell_type": "code",
   "execution_count": 12,
   "metadata": {},
   "outputs": [
    {
     "data": {
      "image/png": "[encoded data removed]",
      "text/plain": [
       "<Figure size 432x288 with 1 Axes>"
      ]
     },
     "metadata": {
      "needs_background": "light"
     },
     "output_type": "display_data"
    }
   ],
   "source": [
    "# plt.plot(m,e)\n",
    "plt.plot(av_list[4], label='1')\n",
    "plt.plot(av_list[3], label='3')\n",
    "plt.plot(av_list[2], label='45')\n",
    "plt.plot(av_list[1], label='50')\n",
    "plt.plot(av_list[0], label='55')\n",
    "plt.xlim((-0.5,16))\n",
    "# plt.plot(range(3,65), np.array([np.sqrt(np.sum(av_list[0][i:]**2)) for i in range(64)])[2:]+1.5, label='64')\n",
    "plt.legend(title=\"     \")\n",
    "plt.savefig('b.png', dpi=800)"
   ]
  },
  {
   "cell_type": "code",
   "execution_count": null,
   "metadata": {},
   "outputs": [],
   "source": []
  }
 ],
 "metadata": {
  "kernelspec": {
   "display_name": "Python 3.10.4 ('env1')",
   "language": "python",
   "name": "python3"
  },
  "language_info": {
   "codemirror_mode": {
    "name": "ipython",
    "version": 3
   },
   "file_extension": ".py",
   "mimetype": "text/x-python",
   "name": "python",
   "nbconvert_exporter": "python",
   "pygments_lexer": "ipython3",
   "version": "3.10.10"
  },
  "orig_nbformat": 4,
  "vscode": {
   "interpreter": {
    "hash": "f79a8a4565eebfe4c70019c336b9dc0c1535a153e32b952a653c6e06f8f61989"
   }
  }
 },
 "nbformat": 4,
 "nbformat_minor": 2
}
